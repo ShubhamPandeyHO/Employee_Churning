{
 "cells": [
  {
   "cell_type": "code",
   "execution_count": 120,
   "id": "9bfc9222",
   "metadata": {},
   "outputs": [],
   "source": [
    "# Employee churning Prediction \n",
    "\n",
    "# Target Value =status"
   ]
  },
  {
   "cell_type": "code",
   "execution_count": 237,
   "id": "252abc50",
   "metadata": {},
   "outputs": [],
   "source": [
    "# Import Iimportatnt Libraries \n"
   ]
  },
  {
   "cell_type": "code",
   "execution_count": 1,
   "id": "5d6e108a",
   "metadata": {},
   "outputs": [
    {
     "data": {
      "text/plain": [
       "'C:\\\\Users\\\\USER\\\\Documents\\\\1.11 May 2023\\\\Project 23-06-2023\\\\Employee Churning Pedning'"
      ]
     },
     "execution_count": 1,
     "metadata": {},
     "output_type": "execute_result"
    }
   ],
   "source": [
    "pwd"
   ]
  },
  {
   "cell_type": "code",
   "execution_count": 2,
   "id": "8503bb17",
   "metadata": {},
   "outputs": [],
   "source": [
    "import pandas as pd \n",
    "import numpy as np\n",
    "import seaborn as sns\n",
    "import matplotlib.pyplot as plt\n",
    "pd.set_option('display.max_columns', None)"
   ]
  },
  {
   "cell_type": "markdown",
   "id": "e7e37f8a",
   "metadata": {},
   "source": [
    "# Importing the data "
   ]
  },
  {
   "cell_type": "code",
   "execution_count": 3,
   "id": "4f8ea382",
   "metadata": {},
   "outputs": [
    {
     "ename": "FileNotFoundError",
     "evalue": "[Errno 2] No such file or directory: 'employee_churn.csv'",
     "output_type": "error",
     "traceback": [
      "\u001b[1;31m---------------------------------------------------------------------------\u001b[0m",
      "\u001b[1;31mFileNotFoundError\u001b[0m                         Traceback (most recent call last)",
      "\u001b[1;32m~\\AppData\\Local\\Temp\\ipykernel_11612\\44345658.py\u001b[0m in \u001b[0;36m<module>\u001b[1;34m\u001b[0m\n\u001b[1;32m----> 1\u001b[1;33m \u001b[0mdf\u001b[0m\u001b[1;33m=\u001b[0m\u001b[0mpd\u001b[0m\u001b[1;33m.\u001b[0m\u001b[0mread_csv\u001b[0m\u001b[1;33m(\u001b[0m\u001b[1;34m'employee_churn.csv'\u001b[0m\u001b[1;33m)\u001b[0m\u001b[1;33m\u001b[0m\u001b[1;33m\u001b[0m\u001b[0m\n\u001b[0m",
      "\u001b[1;32m~\\.dotnet\\ANACONDA\\lib\\site-packages\\pandas\\util\\_decorators.py\u001b[0m in \u001b[0;36mwrapper\u001b[1;34m(*args, **kwargs)\u001b[0m\n\u001b[0;32m    309\u001b[0m                     \u001b[0mstacklevel\u001b[0m\u001b[1;33m=\u001b[0m\u001b[0mstacklevel\u001b[0m\u001b[1;33m,\u001b[0m\u001b[1;33m\u001b[0m\u001b[1;33m\u001b[0m\u001b[0m\n\u001b[0;32m    310\u001b[0m                 )\n\u001b[1;32m--> 311\u001b[1;33m             \u001b[1;32mreturn\u001b[0m \u001b[0mfunc\u001b[0m\u001b[1;33m(\u001b[0m\u001b[1;33m*\u001b[0m\u001b[0margs\u001b[0m\u001b[1;33m,\u001b[0m \u001b[1;33m**\u001b[0m\u001b[0mkwargs\u001b[0m\u001b[1;33m)\u001b[0m\u001b[1;33m\u001b[0m\u001b[1;33m\u001b[0m\u001b[0m\n\u001b[0m\u001b[0;32m    312\u001b[0m \u001b[1;33m\u001b[0m\u001b[0m\n\u001b[0;32m    313\u001b[0m         \u001b[1;32mreturn\u001b[0m \u001b[0mwrapper\u001b[0m\u001b[1;33m\u001b[0m\u001b[1;33m\u001b[0m\u001b[0m\n",
      "\u001b[1;32m~\\.dotnet\\ANACONDA\\lib\\site-packages\\pandas\\io\\parsers\\readers.py\u001b[0m in \u001b[0;36mread_csv\u001b[1;34m(filepath_or_buffer, sep, delimiter, header, names, index_col, usecols, squeeze, prefix, mangle_dupe_cols, dtype, engine, converters, true_values, false_values, skipinitialspace, skiprows, skipfooter, nrows, na_values, keep_default_na, na_filter, verbose, skip_blank_lines, parse_dates, infer_datetime_format, keep_date_col, date_parser, dayfirst, cache_dates, iterator, chunksize, compression, thousands, decimal, lineterminator, quotechar, quoting, doublequote, escapechar, comment, encoding, encoding_errors, dialect, error_bad_lines, warn_bad_lines, on_bad_lines, delim_whitespace, low_memory, memory_map, float_precision, storage_options)\u001b[0m\n\u001b[0;32m    676\u001b[0m     \u001b[0mkwds\u001b[0m\u001b[1;33m.\u001b[0m\u001b[0mupdate\u001b[0m\u001b[1;33m(\u001b[0m\u001b[0mkwds_defaults\u001b[0m\u001b[1;33m)\u001b[0m\u001b[1;33m\u001b[0m\u001b[1;33m\u001b[0m\u001b[0m\n\u001b[0;32m    677\u001b[0m \u001b[1;33m\u001b[0m\u001b[0m\n\u001b[1;32m--> 678\u001b[1;33m     \u001b[1;32mreturn\u001b[0m \u001b[0m_read\u001b[0m\u001b[1;33m(\u001b[0m\u001b[0mfilepath_or_buffer\u001b[0m\u001b[1;33m,\u001b[0m \u001b[0mkwds\u001b[0m\u001b[1;33m)\u001b[0m\u001b[1;33m\u001b[0m\u001b[1;33m\u001b[0m\u001b[0m\n\u001b[0m\u001b[0;32m    679\u001b[0m \u001b[1;33m\u001b[0m\u001b[0m\n\u001b[0;32m    680\u001b[0m \u001b[1;33m\u001b[0m\u001b[0m\n",
      "\u001b[1;32m~\\.dotnet\\ANACONDA\\lib\\site-packages\\pandas\\io\\parsers\\readers.py\u001b[0m in \u001b[0;36m_read\u001b[1;34m(filepath_or_buffer, kwds)\u001b[0m\n\u001b[0;32m    573\u001b[0m \u001b[1;33m\u001b[0m\u001b[0m\n\u001b[0;32m    574\u001b[0m     \u001b[1;31m# Create the parser.\u001b[0m\u001b[1;33m\u001b[0m\u001b[1;33m\u001b[0m\u001b[0m\n\u001b[1;32m--> 575\u001b[1;33m     \u001b[0mparser\u001b[0m \u001b[1;33m=\u001b[0m \u001b[0mTextFileReader\u001b[0m\u001b[1;33m(\u001b[0m\u001b[0mfilepath_or_buffer\u001b[0m\u001b[1;33m,\u001b[0m \u001b[1;33m**\u001b[0m\u001b[0mkwds\u001b[0m\u001b[1;33m)\u001b[0m\u001b[1;33m\u001b[0m\u001b[1;33m\u001b[0m\u001b[0m\n\u001b[0m\u001b[0;32m    576\u001b[0m \u001b[1;33m\u001b[0m\u001b[0m\n\u001b[0;32m    577\u001b[0m     \u001b[1;32mif\u001b[0m \u001b[0mchunksize\u001b[0m \u001b[1;32mor\u001b[0m \u001b[0miterator\u001b[0m\u001b[1;33m:\u001b[0m\u001b[1;33m\u001b[0m\u001b[1;33m\u001b[0m\u001b[0m\n",
      "\u001b[1;32m~\\.dotnet\\ANACONDA\\lib\\site-packages\\pandas\\io\\parsers\\readers.py\u001b[0m in \u001b[0;36m__init__\u001b[1;34m(self, f, engine, **kwds)\u001b[0m\n\u001b[0;32m    930\u001b[0m \u001b[1;33m\u001b[0m\u001b[0m\n\u001b[0;32m    931\u001b[0m         \u001b[0mself\u001b[0m\u001b[1;33m.\u001b[0m\u001b[0mhandles\u001b[0m\u001b[1;33m:\u001b[0m \u001b[0mIOHandles\u001b[0m \u001b[1;33m|\u001b[0m \u001b[1;32mNone\u001b[0m \u001b[1;33m=\u001b[0m \u001b[1;32mNone\u001b[0m\u001b[1;33m\u001b[0m\u001b[1;33m\u001b[0m\u001b[0m\n\u001b[1;32m--> 932\u001b[1;33m         \u001b[0mself\u001b[0m\u001b[1;33m.\u001b[0m\u001b[0m_engine\u001b[0m \u001b[1;33m=\u001b[0m \u001b[0mself\u001b[0m\u001b[1;33m.\u001b[0m\u001b[0m_make_engine\u001b[0m\u001b[1;33m(\u001b[0m\u001b[0mf\u001b[0m\u001b[1;33m,\u001b[0m \u001b[0mself\u001b[0m\u001b[1;33m.\u001b[0m\u001b[0mengine\u001b[0m\u001b[1;33m)\u001b[0m\u001b[1;33m\u001b[0m\u001b[1;33m\u001b[0m\u001b[0m\n\u001b[0m\u001b[0;32m    933\u001b[0m \u001b[1;33m\u001b[0m\u001b[0m\n\u001b[0;32m    934\u001b[0m     \u001b[1;32mdef\u001b[0m \u001b[0mclose\u001b[0m\u001b[1;33m(\u001b[0m\u001b[0mself\u001b[0m\u001b[1;33m)\u001b[0m\u001b[1;33m:\u001b[0m\u001b[1;33m\u001b[0m\u001b[1;33m\u001b[0m\u001b[0m\n",
      "\u001b[1;32m~\\.dotnet\\ANACONDA\\lib\\site-packages\\pandas\\io\\parsers\\readers.py\u001b[0m in \u001b[0;36m_make_engine\u001b[1;34m(self, f, engine)\u001b[0m\n\u001b[0;32m   1214\u001b[0m             \u001b[1;31m# \"Union[str, PathLike[str], ReadCsvBuffer[bytes], ReadCsvBuffer[str]]\"\u001b[0m\u001b[1;33m\u001b[0m\u001b[1;33m\u001b[0m\u001b[0m\n\u001b[0;32m   1215\u001b[0m             \u001b[1;31m# , \"str\", \"bool\", \"Any\", \"Any\", \"Any\", \"Any\", \"Any\"\u001b[0m\u001b[1;33m\u001b[0m\u001b[1;33m\u001b[0m\u001b[0m\n\u001b[1;32m-> 1216\u001b[1;33m             self.handles = get_handle(  # type: ignore[call-overload]\n\u001b[0m\u001b[0;32m   1217\u001b[0m                 \u001b[0mf\u001b[0m\u001b[1;33m,\u001b[0m\u001b[1;33m\u001b[0m\u001b[1;33m\u001b[0m\u001b[0m\n\u001b[0;32m   1218\u001b[0m                 \u001b[0mmode\u001b[0m\u001b[1;33m,\u001b[0m\u001b[1;33m\u001b[0m\u001b[1;33m\u001b[0m\u001b[0m\n",
      "\u001b[1;32m~\\.dotnet\\ANACONDA\\lib\\site-packages\\pandas\\io\\common.py\u001b[0m in \u001b[0;36mget_handle\u001b[1;34m(path_or_buf, mode, encoding, compression, memory_map, is_text, errors, storage_options)\u001b[0m\n\u001b[0;32m    784\u001b[0m         \u001b[1;32mif\u001b[0m \u001b[0mioargs\u001b[0m\u001b[1;33m.\u001b[0m\u001b[0mencoding\u001b[0m \u001b[1;32mand\u001b[0m \u001b[1;34m\"b\"\u001b[0m \u001b[1;32mnot\u001b[0m \u001b[1;32min\u001b[0m \u001b[0mioargs\u001b[0m\u001b[1;33m.\u001b[0m\u001b[0mmode\u001b[0m\u001b[1;33m:\u001b[0m\u001b[1;33m\u001b[0m\u001b[1;33m\u001b[0m\u001b[0m\n\u001b[0;32m    785\u001b[0m             \u001b[1;31m# Encoding\u001b[0m\u001b[1;33m\u001b[0m\u001b[1;33m\u001b[0m\u001b[0m\n\u001b[1;32m--> 786\u001b[1;33m             handle = open(\n\u001b[0m\u001b[0;32m    787\u001b[0m                 \u001b[0mhandle\u001b[0m\u001b[1;33m,\u001b[0m\u001b[1;33m\u001b[0m\u001b[1;33m\u001b[0m\u001b[0m\n\u001b[0;32m    788\u001b[0m                 \u001b[0mioargs\u001b[0m\u001b[1;33m.\u001b[0m\u001b[0mmode\u001b[0m\u001b[1;33m,\u001b[0m\u001b[1;33m\u001b[0m\u001b[1;33m\u001b[0m\u001b[0m\n",
      "\u001b[1;31mFileNotFoundError\u001b[0m: [Errno 2] No such file or directory: 'employee_churn.csv'"
     ]
    }
   ],
   "source": [
    "df=pd.read_csv('employee_churn.csv')"
   ]
  },
  {
   "cell_type": "code",
   "execution_count": null,
   "id": "b48ca21a",
   "metadata": {},
   "outputs": [],
   "source": [
    "df.head()"
   ]
  },
  {
   "cell_type": "code",
   "execution_count": null,
   "id": "fb54fae8",
   "metadata": {},
   "outputs": [],
   "source": [
    "churn=df.copy()"
   ]
  },
  {
   "cell_type": "code",
   "execution_count": 286,
   "id": "c2eb2543",
   "metadata": {},
   "outputs": [
    {
     "name": "stdout",
     "output_type": "stream",
     "text": [
      "<class 'pandas.core.frame.DataFrame'>\n",
      "RangeIndex: 14249 entries, 0 to 14248\n",
      "Data columns (total 10 columns):\n",
      " #   Column             Non-Null Count  Dtype  \n",
      "---  ------             --------------  -----  \n",
      " 0   avg_monthly_hrs    14249 non-null  int64  \n",
      " 1   department         13540 non-null  object \n",
      " 2   filed_complaint    2058 non-null   float64\n",
      " 3   last_evaluation    12717 non-null  float64\n",
      " 4   n_projects         14249 non-null  int64  \n",
      " 5   recently_promoted  300 non-null    float64\n",
      " 6   salary             14249 non-null  object \n",
      " 7   satisfaction       14068 non-null  float64\n",
      " 8   status             14249 non-null  object \n",
      " 9   tenure             14068 non-null  float64\n",
      "dtypes: float64(5), int64(2), object(3)\n",
      "memory usage: 1.1+ MB\n"
     ]
    }
   ],
   "source": [
    "churn.info()"
   ]
  },
  {
   "cell_type": "code",
   "execution_count": 287,
   "id": "52fb7c89",
   "metadata": {},
   "outputs": [
    {
     "data": {
      "text/html": [
       "<div>\n",
       "<style scoped>\n",
       "    .dataframe tbody tr th:only-of-type {\n",
       "        vertical-align: middle;\n",
       "    }\n",
       "\n",
       "    .dataframe tbody tr th {\n",
       "        vertical-align: top;\n",
       "    }\n",
       "\n",
       "    .dataframe thead th {\n",
       "        text-align: right;\n",
       "    }\n",
       "</style>\n",
       "<table border=\"1\" class=\"dataframe\">\n",
       "  <thead>\n",
       "    <tr style=\"text-align: right;\">\n",
       "      <th></th>\n",
       "      <th>avg_monthly_hrs</th>\n",
       "      <th>filed_complaint</th>\n",
       "      <th>last_evaluation</th>\n",
       "      <th>n_projects</th>\n",
       "      <th>recently_promoted</th>\n",
       "      <th>satisfaction</th>\n",
       "      <th>tenure</th>\n",
       "    </tr>\n",
       "  </thead>\n",
       "  <tbody>\n",
       "    <tr>\n",
       "      <th>count</th>\n",
       "      <td>14249.000000</td>\n",
       "      <td>2058.0</td>\n",
       "      <td>12717.000000</td>\n",
       "      <td>14249.000000</td>\n",
       "      <td>300.0</td>\n",
       "      <td>14068.000000</td>\n",
       "      <td>14068.000000</td>\n",
       "    </tr>\n",
       "    <tr>\n",
       "      <th>mean</th>\n",
       "      <td>199.795775</td>\n",
       "      <td>1.0</td>\n",
       "      <td>0.718477</td>\n",
       "      <td>3.773809</td>\n",
       "      <td>1.0</td>\n",
       "      <td>0.621295</td>\n",
       "      <td>3.497228</td>\n",
       "    </tr>\n",
       "    <tr>\n",
       "      <th>std</th>\n",
       "      <td>50.998714</td>\n",
       "      <td>0.0</td>\n",
       "      <td>0.173062</td>\n",
       "      <td>1.253126</td>\n",
       "      <td>0.0</td>\n",
       "      <td>0.250469</td>\n",
       "      <td>1.460917</td>\n",
       "    </tr>\n",
       "    <tr>\n",
       "      <th>min</th>\n",
       "      <td>49.000000</td>\n",
       "      <td>1.0</td>\n",
       "      <td>0.316175</td>\n",
       "      <td>1.000000</td>\n",
       "      <td>1.0</td>\n",
       "      <td>0.040058</td>\n",
       "      <td>2.000000</td>\n",
       "    </tr>\n",
       "    <tr>\n",
       "      <th>25%</th>\n",
       "      <td>155.000000</td>\n",
       "      <td>1.0</td>\n",
       "      <td>0.563866</td>\n",
       "      <td>3.000000</td>\n",
       "      <td>1.0</td>\n",
       "      <td>0.450390</td>\n",
       "      <td>3.000000</td>\n",
       "    </tr>\n",
       "    <tr>\n",
       "      <th>50%</th>\n",
       "      <td>199.000000</td>\n",
       "      <td>1.0</td>\n",
       "      <td>0.724939</td>\n",
       "      <td>4.000000</td>\n",
       "      <td>1.0</td>\n",
       "      <td>0.652527</td>\n",
       "      <td>3.000000</td>\n",
       "    </tr>\n",
       "    <tr>\n",
       "      <th>75%</th>\n",
       "      <td>245.000000</td>\n",
       "      <td>1.0</td>\n",
       "      <td>0.871358</td>\n",
       "      <td>5.000000</td>\n",
       "      <td>1.0</td>\n",
       "      <td>0.824951</td>\n",
       "      <td>4.000000</td>\n",
       "    </tr>\n",
       "    <tr>\n",
       "      <th>max</th>\n",
       "      <td>310.000000</td>\n",
       "      <td>1.0</td>\n",
       "      <td>1.000000</td>\n",
       "      <td>7.000000</td>\n",
       "      <td>1.0</td>\n",
       "      <td>1.000000</td>\n",
       "      <td>10.000000</td>\n",
       "    </tr>\n",
       "  </tbody>\n",
       "</table>\n",
       "</div>"
      ],
      "text/plain": [
       "       avg_monthly_hrs  filed_complaint  last_evaluation    n_projects  \\\n",
       "count     14249.000000           2058.0     12717.000000  14249.000000   \n",
       "mean        199.795775              1.0         0.718477      3.773809   \n",
       "std          50.998714              0.0         0.173062      1.253126   \n",
       "min          49.000000              1.0         0.316175      1.000000   \n",
       "25%         155.000000              1.0         0.563866      3.000000   \n",
       "50%         199.000000              1.0         0.724939      4.000000   \n",
       "75%         245.000000              1.0         0.871358      5.000000   \n",
       "max         310.000000              1.0         1.000000      7.000000   \n",
       "\n",
       "       recently_promoted  satisfaction        tenure  \n",
       "count              300.0  14068.000000  14068.000000  \n",
       "mean                 1.0      0.621295      3.497228  \n",
       "std                  0.0      0.250469      1.460917  \n",
       "min                  1.0      0.040058      2.000000  \n",
       "25%                  1.0      0.450390      3.000000  \n",
       "50%                  1.0      0.652527      3.000000  \n",
       "75%                  1.0      0.824951      4.000000  \n",
       "max                  1.0      1.000000     10.000000  "
      ]
     },
     "execution_count": 287,
     "metadata": {},
     "output_type": "execute_result"
    }
   ],
   "source": [
    "churn.describe()"
   ]
  },
  {
   "cell_type": "markdown",
   "id": "83c7ae01",
   "metadata": {},
   "source": [
    "# We check null value "
   ]
  },
  {
   "cell_type": "code",
   "execution_count": 288,
   "id": "4526202b",
   "metadata": {},
   "outputs": [
    {
     "data": {
      "text/plain": [
       "avg_monthly_hrs          0\n",
       "department             709\n",
       "filed_complaint      12191\n",
       "last_evaluation       1532\n",
       "n_projects               0\n",
       "recently_promoted    13949\n",
       "salary                   0\n",
       "satisfaction           181\n",
       "status                   0\n",
       "tenure                 181\n",
       "dtype: int64"
      ]
     },
     "execution_count": 288,
     "metadata": {},
     "output_type": "execute_result"
    }
   ],
   "source": [
    "churn.isnull().sum()"
   ]
  },
  {
   "cell_type": "code",
   "execution_count": 289,
   "id": "b6661939",
   "metadata": {},
   "outputs": [
    {
     "data": {
      "text/plain": [
       "(14249, 10)"
      ]
     },
     "execution_count": 289,
     "metadata": {},
     "output_type": "execute_result"
    }
   ],
   "source": [
    "churn.shape"
   ]
  },
  {
   "cell_type": "code",
   "execution_count": 290,
   "id": "c738dcf6",
   "metadata": {},
   "outputs": [
    {
     "data": {
      "image/png": "[encoded data removed]",
      "text/plain": [
       "<Figure size 640x480 with 2 Axes>"
      ]
     },
     "metadata": {},
     "output_type": "display_data"
    }
   ],
   "source": [
    "sns.heatmap(churn.isnull(),yticklabels='red') \n",
    "plt.show()"
   ]
  },
  {
   "cell_type": "code",
   "execution_count": 291,
   "id": "12bd22a0",
   "metadata": {},
   "outputs": [
    {
     "data": {
      "text/plain": [
       "avg_monthly_hrs       0.000000\n",
       "department            4.975788\n",
       "filed_complaint      85.556881\n",
       "last_evaluation      10.751632\n",
       "n_projects            0.000000\n",
       "recently_promoted    97.894589\n",
       "salary                0.000000\n",
       "satisfaction          1.270265\n",
       "status                0.000000\n",
       "tenure                1.270265\n",
       "dtype: float64"
      ]
     },
     "execution_count": 291,
     "metadata": {},
     "output_type": "execute_result"
    }
   ],
   "source": [
    "churn.isnull().sum()*100/len(churn)"
   ]
  },
  {
   "cell_type": "markdown",
   "id": "0be1964a",
   "metadata": {},
   "source": [
    "# we drop 2 Columns beacuse of large number of blanck  (filed_complaint,recently_promoted)"
   ]
  },
  {
   "cell_type": "code",
   "execution_count": 292,
   "id": "71ca856a",
   "metadata": {},
   "outputs": [],
   "source": [
    "churn.drop(['filed_complaint','recently_promoted'],axis=1,inplace=True)"
   ]
  },
  {
   "cell_type": "code",
   "execution_count": 293,
   "id": "c0380cf3",
   "metadata": {},
   "outputs": [
    {
     "name": "stdout",
     "output_type": "stream",
     "text": [
      "<class 'pandas.core.frame.DataFrame'>\n",
      "RangeIndex: 14249 entries, 0 to 14248\n",
      "Data columns (total 8 columns):\n",
      " #   Column           Non-Null Count  Dtype  \n",
      "---  ------           --------------  -----  \n",
      " 0   avg_monthly_hrs  14249 non-null  int64  \n",
      " 1   department       13540 non-null  object \n",
      " 2   last_evaluation  12717 non-null  float64\n",
      " 3   n_projects       14249 non-null  int64  \n",
      " 4   salary           14249 non-null  object \n",
      " 5   satisfaction     14068 non-null  float64\n",
      " 6   status           14249 non-null  object \n",
      " 7   tenure           14068 non-null  float64\n",
      "dtypes: float64(3), int64(2), object(3)\n",
      "memory usage: 890.7+ KB\n"
     ]
    }
   ],
   "source": [
    "churn.info()"
   ]
  },
  {
   "cell_type": "markdown",
   "id": "a3fe0e51",
   "metadata": {},
   "source": [
    "# We fill null value mean, medium, mode "
   ]
  },
  {
   "cell_type": "code",
   "execution_count": 294,
   "id": "c399faac",
   "metadata": {},
   "outputs": [],
   "source": [
    "churn['department']=churn['department'].fillna(churn['department'].mode())\n",
    "churn['last_evaluation']=churn['last_evaluation'].fillna(churn['last_evaluation'].mean())\n",
    "churn['satisfaction']=churn['satisfaction'].fillna(churn['satisfaction'].mean())\n",
    "churn['tenure']=churn['tenure'].fillna(churn['tenure'].mean())"
   ]
  },
  {
   "cell_type": "code",
   "execution_count": 295,
   "id": "b86f1155",
   "metadata": {},
   "outputs": [
    {
     "data": {
      "text/html": [
       "<div>\n",
       "<style scoped>\n",
       "    .dataframe tbody tr th:only-of-type {\n",
       "        vertical-align: middle;\n",
       "    }\n",
       "\n",
       "    .dataframe tbody tr th {\n",
       "        vertical-align: top;\n",
       "    }\n",
       "\n",
       "    .dataframe thead th {\n",
       "        text-align: right;\n",
       "    }\n",
       "</style>\n",
       "<table border=\"1\" class=\"dataframe\">\n",
       "  <thead>\n",
       "    <tr style=\"text-align: right;\">\n",
       "      <th></th>\n",
       "      <th>avg_monthly_hrs</th>\n",
       "      <th>department</th>\n",
       "      <th>last_evaluation</th>\n",
       "      <th>n_projects</th>\n",
       "      <th>salary</th>\n",
       "      <th>satisfaction</th>\n",
       "      <th>status</th>\n",
       "      <th>tenure</th>\n",
       "    </tr>\n",
       "  </thead>\n",
       "  <tbody>\n",
       "    <tr>\n",
       "      <th>0</th>\n",
       "      <td>221</td>\n",
       "      <td>engineering</td>\n",
       "      <td>0.932868</td>\n",
       "      <td>4</td>\n",
       "      <td>low</td>\n",
       "      <td>0.829896</td>\n",
       "      <td>Left</td>\n",
       "      <td>5.0</td>\n",
       "    </tr>\n",
       "    <tr>\n",
       "      <th>1</th>\n",
       "      <td>232</td>\n",
       "      <td>support</td>\n",
       "      <td>0.718477</td>\n",
       "      <td>3</td>\n",
       "      <td>low</td>\n",
       "      <td>0.834544</td>\n",
       "      <td>Employed</td>\n",
       "      <td>2.0</td>\n",
       "    </tr>\n",
       "    <tr>\n",
       "      <th>2</th>\n",
       "      <td>184</td>\n",
       "      <td>sales</td>\n",
       "      <td>0.788830</td>\n",
       "      <td>3</td>\n",
       "      <td>medium</td>\n",
       "      <td>0.834988</td>\n",
       "      <td>Employed</td>\n",
       "      <td>3.0</td>\n",
       "    </tr>\n",
       "    <tr>\n",
       "      <th>3</th>\n",
       "      <td>206</td>\n",
       "      <td>sales</td>\n",
       "      <td>0.575688</td>\n",
       "      <td>4</td>\n",
       "      <td>low</td>\n",
       "      <td>0.424764</td>\n",
       "      <td>Employed</td>\n",
       "      <td>2.0</td>\n",
       "    </tr>\n",
       "    <tr>\n",
       "      <th>4</th>\n",
       "      <td>249</td>\n",
       "      <td>sales</td>\n",
       "      <td>0.845217</td>\n",
       "      <td>3</td>\n",
       "      <td>low</td>\n",
       "      <td>0.779043</td>\n",
       "      <td>Employed</td>\n",
       "      <td>3.0</td>\n",
       "    </tr>\n",
       "  </tbody>\n",
       "</table>\n",
       "</div>"
      ],
      "text/plain": [
       "   avg_monthly_hrs   department  last_evaluation  n_projects  salary  \\\n",
       "0              221  engineering         0.932868           4     low   \n",
       "1              232      support         0.718477           3     low   \n",
       "2              184        sales         0.788830           3  medium   \n",
       "3              206        sales         0.575688           4     low   \n",
       "4              249        sales         0.845217           3     low   \n",
       "\n",
       "   satisfaction    status  tenure  \n",
       "0      0.829896      Left     5.0  \n",
       "1      0.834544  Employed     2.0  \n",
       "2      0.834988  Employed     3.0  \n",
       "3      0.424764  Employed     2.0  \n",
       "4      0.779043  Employed     3.0  "
      ]
     },
     "execution_count": 295,
     "metadata": {},
     "output_type": "execute_result"
    }
   ],
   "source": [
    "churn.head()"
   ]
  },
  {
   "cell_type": "code",
   "execution_count": 296,
   "id": "3ac70f06",
   "metadata": {},
   "outputs": [
    {
     "data": {
      "text/plain": [
       "Index(['avg_monthly_hrs', 'department', 'last_evaluation', 'n_projects',\n",
       "       'salary', 'satisfaction', 'status', 'tenure'],\n",
       "      dtype='object')"
      ]
     },
     "execution_count": 296,
     "metadata": {},
     "output_type": "execute_result"
    }
   ],
   "source": [
    "churn_columns=churn.columns\n",
    "churn_columns"
   ]
  },
  {
   "cell_type": "code",
   "execution_count": 297,
   "id": "7d49aa8e",
   "metadata": {},
   "outputs": [
    {
     "name": "stdout",
     "output_type": "stream",
     "text": [
      "avg_monthly_hrs:[221 232 184 206 249 140 121 150 215 269 147 188 191 290 253 258 151 252\n",
      " 276 154 259 136 176 231 125 109 130 163  67 268 107 156 234 127 282 133\n",
      " 270 132 126 139 308  70 274 278 185 263 260 224 135 245 203 235 187 165\n",
      " 146 159 198 275 141 173 230 168 183 246 209 143 212 186 162 158 283 113\n",
      " 214 181 251 219 170 207 241 167 161 271 310 257 229 211 248 266 103 160\n",
      " 116 194 200 213 148 250 196 265 262 175 254 189 104 195 255 281 155 208\n",
      " 280 137 242 153 233 179 239 172 201 222 228 124 129 142 238 152 111 180\n",
      " 237 288 199 256 305 138 134 166 291 273 240 236 171 182 225 164  81 149\n",
      " 272 193 120 145 243 223 261 298 227 204  71 267 115 226 304 177 244 287\n",
      " 192 178 289 197 128 101 247 131 220 264 217 118 218 277 119 157 285 210\n",
      "  96 106 174 309 284 114 202 190 144 286 117 169 100 279 122 307 306 292\n",
      "  99 294 216  98 105  49 108 300 303 205  68 301  78 297  82 102  73 295\n",
      " 123 296  80  76 293 112  97 299  52  66  69  87 302 110  72  74  84  90\n",
      "  83  85  54  93  89  56  95  91  55  65  60  88  63  92  75]\n",
      "department:['engineering' 'support' 'sales' 'IT' 'product' 'marketing' 'temp'\n",
      " 'procurement' 'finance' nan 'management' 'information_technology' 'admin']\n",
      "last_evaluation:[0.93286764 0.71847668 0.78882984 ... 0.8476229  0.75718351 0.57874205]\n",
      "n_projects:[4 3 5 2 6 1 7]\n",
      "salary:['low' 'medium' 'high']\n",
      "satisfaction:[0.8298962  0.83454379 0.83498761 ... 0.89891745 0.64130423 0.80885047]\n",
      "status:['Left' 'Employed']\n",
      "tenure:[ 5.          2.          3.          4.          7.          6.\n",
      "  3.49722775 10.          8.        ]\n"
     ]
    }
   ],
   "source": [
    "for column in churn_columns:\n",
    "    print(f'{column}:{churn[column].unique()}')"
   ]
  },
  {
   "cell_type": "markdown",
   "id": "0f159dfe",
   "metadata": {},
   "source": [
    "# You can see department has contain null value  so be drop the null value "
   ]
  },
  {
   "cell_type": "code",
   "execution_count": 298,
   "id": "7a87379f",
   "metadata": {},
   "outputs": [],
   "source": [
    "churn = churn.dropna(how='any',axis=0) "
   ]
  },
  {
   "cell_type": "code",
   "execution_count": 299,
   "id": "30d07799",
   "metadata": {},
   "outputs": [
    {
     "data": {
      "text/html": [
       "<div>\n",
       "<style scoped>\n",
       "    .dataframe tbody tr th:only-of-type {\n",
       "        vertical-align: middle;\n",
       "    }\n",
       "\n",
       "    .dataframe tbody tr th {\n",
       "        vertical-align: top;\n",
       "    }\n",
       "\n",
       "    .dataframe thead th {\n",
       "        text-align: right;\n",
       "    }\n",
       "</style>\n",
       "<table border=\"1\" class=\"dataframe\">\n",
       "  <thead>\n",
       "    <tr style=\"text-align: right;\">\n",
       "      <th></th>\n",
       "      <th>avg_monthly_hrs</th>\n",
       "      <th>department</th>\n",
       "      <th>last_evaluation</th>\n",
       "      <th>n_projects</th>\n",
       "      <th>salary</th>\n",
       "      <th>satisfaction</th>\n",
       "      <th>status</th>\n",
       "      <th>tenure</th>\n",
       "    </tr>\n",
       "  </thead>\n",
       "  <tbody>\n",
       "    <tr>\n",
       "      <th>0</th>\n",
       "      <td>221</td>\n",
       "      <td>engineering</td>\n",
       "      <td>0.932868</td>\n",
       "      <td>4</td>\n",
       "      <td>low</td>\n",
       "      <td>0.829896</td>\n",
       "      <td>Left</td>\n",
       "      <td>5.0</td>\n",
       "    </tr>\n",
       "    <tr>\n",
       "      <th>1</th>\n",
       "      <td>232</td>\n",
       "      <td>support</td>\n",
       "      <td>0.718477</td>\n",
       "      <td>3</td>\n",
       "      <td>low</td>\n",
       "      <td>0.834544</td>\n",
       "      <td>Employed</td>\n",
       "      <td>2.0</td>\n",
       "    </tr>\n",
       "    <tr>\n",
       "      <th>2</th>\n",
       "      <td>184</td>\n",
       "      <td>sales</td>\n",
       "      <td>0.788830</td>\n",
       "      <td>3</td>\n",
       "      <td>medium</td>\n",
       "      <td>0.834988</td>\n",
       "      <td>Employed</td>\n",
       "      <td>3.0</td>\n",
       "    </tr>\n",
       "    <tr>\n",
       "      <th>3</th>\n",
       "      <td>206</td>\n",
       "      <td>sales</td>\n",
       "      <td>0.575688</td>\n",
       "      <td>4</td>\n",
       "      <td>low</td>\n",
       "      <td>0.424764</td>\n",
       "      <td>Employed</td>\n",
       "      <td>2.0</td>\n",
       "    </tr>\n",
       "    <tr>\n",
       "      <th>4</th>\n",
       "      <td>249</td>\n",
       "      <td>sales</td>\n",
       "      <td>0.845217</td>\n",
       "      <td>3</td>\n",
       "      <td>low</td>\n",
       "      <td>0.779043</td>\n",
       "      <td>Employed</td>\n",
       "      <td>3.0</td>\n",
       "    </tr>\n",
       "  </tbody>\n",
       "</table>\n",
       "</div>"
      ],
      "text/plain": [
       "   avg_monthly_hrs   department  last_evaluation  n_projects  salary  \\\n",
       "0              221  engineering         0.932868           4     low   \n",
       "1              232      support         0.718477           3     low   \n",
       "2              184        sales         0.788830           3  medium   \n",
       "3              206        sales         0.575688           4     low   \n",
       "4              249        sales         0.845217           3     low   \n",
       "\n",
       "   satisfaction    status  tenure  \n",
       "0      0.829896      Left     5.0  \n",
       "1      0.834544  Employed     2.0  \n",
       "2      0.834988  Employed     3.0  \n",
       "3      0.424764  Employed     2.0  \n",
       "4      0.779043  Employed     3.0  "
      ]
     },
     "execution_count": 299,
     "metadata": {},
     "output_type": "execute_result"
    }
   ],
   "source": [
    "churn.head()"
   ]
  },
  {
   "cell_type": "markdown",
   "id": "5580c0b5",
   "metadata": {},
   "source": [
    "# We check Ouliers "
   ]
  },
  {
   "cell_type": "code",
   "execution_count": 300,
   "id": "ebcd3aa9",
   "metadata": {},
   "outputs": [
    {
     "data": {
      "text/plain": [
       "(13540, 8)"
      ]
     },
     "execution_count": 300,
     "metadata": {},
     "output_type": "execute_result"
    }
   ],
   "source": [
    "churn.shape"
   ]
  },
  {
   "cell_type": "code",
   "execution_count": 301,
   "id": "9c21c705",
   "metadata": {},
   "outputs": [
    {
     "data": {
      "text/plain": [
       "<AxesSubplot:>"
      ]
     },
     "execution_count": 301,
     "metadata": {},
     "output_type": "execute_result"
    },
    {
     "data": {
      "image/png": "[encoded data removed]",
      "text/plain": [
       "<Figure size 1000x1200 with 1 Axes>"
      ]
     },
     "metadata": {},
     "output_type": "display_data"
    }
   ],
   "source": [
    "plt.figure(figsize=(10,12))\n",
    "sns.boxplot(data=churn)"
   ]
  },
  {
   "cell_type": "code",
   "execution_count": 302,
   "id": "5232ac4f",
   "metadata": {},
   "outputs": [
    {
     "data": {
      "text/plain": [
       "<AxesSubplot:>"
      ]
     },
     "execution_count": 302,
     "metadata": {},
     "output_type": "execute_result"
    },
    {
     "data": {
      "image/png": "[encoded data removed]",
      "text/plain": [
       "<Figure size 1000x1200 with 1 Axes>"
      ]
     },
     "metadata": {},
     "output_type": "display_data"
    }
   ],
   "source": [
    "plt.figure(figsize=(10,12))\n",
    "sns.boxplot(data=churn['tenure'])"
   ]
  },
  {
   "cell_type": "code",
   "execution_count": 303,
   "id": "ad6dfdeb",
   "metadata": {},
   "outputs": [
    {
     "data": {
      "text/html": [
       "<div>\n",
       "<style scoped>\n",
       "    .dataframe tbody tr th:only-of-type {\n",
       "        vertical-align: middle;\n",
       "    }\n",
       "\n",
       "    .dataframe tbody tr th {\n",
       "        vertical-align: top;\n",
       "    }\n",
       "\n",
       "    .dataframe thead th {\n",
       "        text-align: right;\n",
       "    }\n",
       "</style>\n",
       "<table border=\"1\" class=\"dataframe\">\n",
       "  <thead>\n",
       "    <tr style=\"text-align: right;\">\n",
       "      <th></th>\n",
       "      <th>avg_monthly_hrs</th>\n",
       "      <th>department</th>\n",
       "      <th>last_evaluation</th>\n",
       "      <th>n_projects</th>\n",
       "      <th>salary</th>\n",
       "      <th>satisfaction</th>\n",
       "      <th>status</th>\n",
       "      <th>tenure</th>\n",
       "    </tr>\n",
       "  </thead>\n",
       "  <tbody>\n",
       "    <tr>\n",
       "      <th>0</th>\n",
       "      <td>221</td>\n",
       "      <td>engineering</td>\n",
       "      <td>0.932868</td>\n",
       "      <td>4</td>\n",
       "      <td>low</td>\n",
       "      <td>0.829896</td>\n",
       "      <td>Left</td>\n",
       "      <td>5.0</td>\n",
       "    </tr>\n",
       "  </tbody>\n",
       "</table>\n",
       "</div>"
      ],
      "text/plain": [
       "   avg_monthly_hrs   department  last_evaluation  n_projects salary  \\\n",
       "0              221  engineering         0.932868           4    low   \n",
       "\n",
       "   satisfaction status  tenure  \n",
       "0      0.829896   Left     5.0  "
      ]
     },
     "execution_count": 303,
     "metadata": {},
     "output_type": "execute_result"
    }
   ],
   "source": [
    "churn.head(1)"
   ]
  },
  {
   "cell_type": "code",
   "execution_count": 312,
   "id": "32fb50fc",
   "metadata": {},
   "outputs": [],
   "source": [
    "# we can't do label encoding with get dummies beacuse of EDA "
   ]
  },
  {
   "cell_type": "markdown",
   "id": "76fd3463",
   "metadata": {},
   "source": [
    "# Label Encoding "
   ]
  },
  {
   "cell_type": "code",
   "execution_count": 313,
   "id": "c8c1f26d",
   "metadata": {},
   "outputs": [],
   "source": [
    "churn['department'].replace({'sales':0,'engineering':1,'support':2,'IT':3,'product':4,'marketing':5,'finance':6,'management':7,'information_technology':8,'temp':9,'admin':10,'procurement':11},inplace=True)"
   ]
  },
  {
   "cell_type": "code",
   "execution_count": 314,
   "id": "ec9a5226",
   "metadata": {},
   "outputs": [],
   "source": [
    "churn['status'].replace({'Left':0,'Employed':1},inplace=True)\n",
    "churn['salary'].replace({'low':0,'medium':1,'high':2},inplace=True)"
   ]
  },
  {
   "cell_type": "code",
   "execution_count": 315,
   "id": "80abf13a",
   "metadata": {},
   "outputs": [
    {
     "data": {
      "text/plain": [
       "0     3923\n",
       "1     2592\n",
       "2     2122\n",
       "3     1161\n",
       "4      860\n",
       "5      819\n",
       "6      728\n",
       "7      595\n",
       "8      209\n",
       "9      181\n",
       "10     176\n",
       "11     174\n",
       "Name: department, dtype: int64"
      ]
     },
     "execution_count": 315,
     "metadata": {},
     "output_type": "execute_result"
    }
   ],
   "source": [
    "churn['department'].value_counts()"
   ]
  },
  {
   "cell_type": "code",
   "execution_count": 316,
   "id": "c446d400",
   "metadata": {},
   "outputs": [
    {
     "data": {
      "text/html": [
       "<div>\n",
       "<style scoped>\n",
       "    .dataframe tbody tr th:only-of-type {\n",
       "        vertical-align: middle;\n",
       "    }\n",
       "\n",
       "    .dataframe tbody tr th {\n",
       "        vertical-align: top;\n",
       "    }\n",
       "\n",
       "    .dataframe thead th {\n",
       "        text-align: right;\n",
       "    }\n",
       "</style>\n",
       "<table border=\"1\" class=\"dataframe\">\n",
       "  <thead>\n",
       "    <tr style=\"text-align: right;\">\n",
       "      <th></th>\n",
       "      <th>avg_monthly_hrs</th>\n",
       "      <th>department</th>\n",
       "      <th>last_evaluation</th>\n",
       "      <th>n_projects</th>\n",
       "      <th>salary</th>\n",
       "      <th>satisfaction</th>\n",
       "      <th>status</th>\n",
       "      <th>tenure</th>\n",
       "    </tr>\n",
       "  </thead>\n",
       "  <tbody>\n",
       "    <tr>\n",
       "      <th>0</th>\n",
       "      <td>221</td>\n",
       "      <td>1</td>\n",
       "      <td>0.932868</td>\n",
       "      <td>4</td>\n",
       "      <td>0</td>\n",
       "      <td>0.829896</td>\n",
       "      <td>0</td>\n",
       "      <td>5.0</td>\n",
       "    </tr>\n",
       "    <tr>\n",
       "      <th>1</th>\n",
       "      <td>232</td>\n",
       "      <td>2</td>\n",
       "      <td>0.718477</td>\n",
       "      <td>3</td>\n",
       "      <td>0</td>\n",
       "      <td>0.834544</td>\n",
       "      <td>1</td>\n",
       "      <td>2.0</td>\n",
       "    </tr>\n",
       "    <tr>\n",
       "      <th>2</th>\n",
       "      <td>184</td>\n",
       "      <td>0</td>\n",
       "      <td>0.788830</td>\n",
       "      <td>3</td>\n",
       "      <td>1</td>\n",
       "      <td>0.834988</td>\n",
       "      <td>1</td>\n",
       "      <td>3.0</td>\n",
       "    </tr>\n",
       "    <tr>\n",
       "      <th>3</th>\n",
       "      <td>206</td>\n",
       "      <td>0</td>\n",
       "      <td>0.575688</td>\n",
       "      <td>4</td>\n",
       "      <td>0</td>\n",
       "      <td>0.424764</td>\n",
       "      <td>1</td>\n",
       "      <td>2.0</td>\n",
       "    </tr>\n",
       "    <tr>\n",
       "      <th>4</th>\n",
       "      <td>249</td>\n",
       "      <td>0</td>\n",
       "      <td>0.845217</td>\n",
       "      <td>3</td>\n",
       "      <td>0</td>\n",
       "      <td>0.779043</td>\n",
       "      <td>1</td>\n",
       "      <td>3.0</td>\n",
       "    </tr>\n",
       "    <tr>\n",
       "      <th>...</th>\n",
       "      <td>...</td>\n",
       "      <td>...</td>\n",
       "      <td>...</td>\n",
       "      <td>...</td>\n",
       "      <td>...</td>\n",
       "      <td>...</td>\n",
       "      <td>...</td>\n",
       "      <td>...</td>\n",
       "    </tr>\n",
       "    <tr>\n",
       "      <th>14243</th>\n",
       "      <td>272</td>\n",
       "      <td>1</td>\n",
       "      <td>0.815504</td>\n",
       "      <td>4</td>\n",
       "      <td>0</td>\n",
       "      <td>0.693387</td>\n",
       "      <td>1</td>\n",
       "      <td>2.0</td>\n",
       "    </tr>\n",
       "    <tr>\n",
       "      <th>14244</th>\n",
       "      <td>178</td>\n",
       "      <td>3</td>\n",
       "      <td>0.735865</td>\n",
       "      <td>5</td>\n",
       "      <td>0</td>\n",
       "      <td>0.263282</td>\n",
       "      <td>1</td>\n",
       "      <td>5.0</td>\n",
       "    </tr>\n",
       "    <tr>\n",
       "      <th>14245</th>\n",
       "      <td>257</td>\n",
       "      <td>0</td>\n",
       "      <td>0.638604</td>\n",
       "      <td>3</td>\n",
       "      <td>0</td>\n",
       "      <td>0.868209</td>\n",
       "      <td>1</td>\n",
       "      <td>2.0</td>\n",
       "    </tr>\n",
       "    <tr>\n",
       "      <th>14246</th>\n",
       "      <td>232</td>\n",
       "      <td>6</td>\n",
       "      <td>0.847623</td>\n",
       "      <td>5</td>\n",
       "      <td>1</td>\n",
       "      <td>0.898917</td>\n",
       "      <td>0</td>\n",
       "      <td>5.0</td>\n",
       "    </tr>\n",
       "    <tr>\n",
       "      <th>14247</th>\n",
       "      <td>130</td>\n",
       "      <td>3</td>\n",
       "      <td>0.757184</td>\n",
       "      <td>4</td>\n",
       "      <td>1</td>\n",
       "      <td>0.641304</td>\n",
       "      <td>1</td>\n",
       "      <td>3.0</td>\n",
       "    </tr>\n",
       "  </tbody>\n",
       "</table>\n",
       "<p>13540 rows × 8 columns</p>\n",
       "</div>"
      ],
      "text/plain": [
       "       avg_monthly_hrs  department  last_evaluation  n_projects  salary  \\\n",
       "0                  221           1         0.932868           4       0   \n",
       "1                  232           2         0.718477           3       0   \n",
       "2                  184           0         0.788830           3       1   \n",
       "3                  206           0         0.575688           4       0   \n",
       "4                  249           0         0.845217           3       0   \n",
       "...                ...         ...              ...         ...     ...   \n",
       "14243              272           1         0.815504           4       0   \n",
       "14244              178           3         0.735865           5       0   \n",
       "14245              257           0         0.638604           3       0   \n",
       "14246              232           6         0.847623           5       1   \n",
       "14247              130           3         0.757184           4       1   \n",
       "\n",
       "       satisfaction  status  tenure  \n",
       "0          0.829896       0     5.0  \n",
       "1          0.834544       1     2.0  \n",
       "2          0.834988       1     3.0  \n",
       "3          0.424764       1     2.0  \n",
       "4          0.779043       1     3.0  \n",
       "...             ...     ...     ...  \n",
       "14243      0.693387       1     2.0  \n",
       "14244      0.263282       1     5.0  \n",
       "14245      0.868209       1     2.0  \n",
       "14246      0.898917       0     5.0  \n",
       "14247      0.641304       1     3.0  \n",
       "\n",
       "[13540 rows x 8 columns]"
      ]
     },
     "execution_count": 316,
     "metadata": {},
     "output_type": "execute_result"
    }
   ],
   "source": [
    "churn"
   ]
  },
  {
   "cell_type": "markdown",
   "id": "7ec50f1a",
   "metadata": {},
   "source": [
    "# EDA"
   ]
  },
  {
   "cell_type": "code",
   "execution_count": 317,
   "id": "8baa9ea3",
   "metadata": {},
   "outputs": [
    {
     "data": {
      "text/plain": [
       "<AxesSubplot:xlabel='status', ylabel='count'>"
      ]
     },
     "execution_count": 317,
     "metadata": {},
     "output_type": "execute_result"
    },
    {
     "data": {
      "image/png": "[encoded data removed]",
      "text/plain": [
       "<Figure size 1000x1200 with 1 Axes>"
      ]
     },
     "metadata": {},
     "output_type": "display_data"
    }
   ],
   "source": [
    "plt.figure(figsize=(10,12))\n",
    "sns.countplot(data=churn,x='status',hue='department')"
   ]
  },
  {
   "cell_type": "code",
   "execution_count": 318,
   "id": "1f45079f",
   "metadata": {},
   "outputs": [],
   "source": [
    "# Large Number of employee are left from sale department "
   ]
  },
  {
   "cell_type": "code",
   "execution_count": 319,
   "id": "82b43d3c",
   "metadata": {},
   "outputs": [
    {
     "data": {
      "text/plain": [
       "<AxesSubplot:xlabel='status', ylabel='count'>"
      ]
     },
     "execution_count": 319,
     "metadata": {},
     "output_type": "execute_result"
    },
    {
     "data": {
      "image/png": "[encoded data removed]",
      "text/plain": [
       "<Figure size 1000x1200 with 1 Axes>"
      ]
     },
     "metadata": {},
     "output_type": "display_data"
    }
   ],
   "source": [
    "plt.figure(figsize=(10,12))\n",
    "sns.countplot(data=churn,x='status',hue='salary')"
   ]
  },
  {
   "cell_type": "code",
   "execution_count": 320,
   "id": "5e29238c",
   "metadata": {},
   "outputs": [],
   "source": [
    "# Large number of employe are left which salary is low and medium "
   ]
  },
  {
   "cell_type": "code",
   "execution_count": 335,
   "id": "c71d9f67",
   "metadata": {},
   "outputs": [
    {
     "data": {
      "text/plain": [
       "<AxesSubplot:xlabel='status', ylabel='salary'>"
      ]
     },
     "execution_count": 335,
     "metadata": {},
     "output_type": "execute_result"
    },
    {
     "data": {
      "image/png": "[encoded data removed]",
      "text/plain": [
       "<Figure size 640x480 with 1 Axes>"
      ]
     },
     "metadata": {},
     "output_type": "display_data"
    }
   ],
   "source": [
    "sns.barplot(data=churn,x='status',y='salary')"
   ]
  },
  {
   "cell_type": "code",
   "execution_count": 327,
   "id": "2cdaa23e",
   "metadata": {},
   "outputs": [
    {
     "data": {
      "text/html": [
       "<div>\n",
       "<style scoped>\n",
       "    .dataframe tbody tr th:only-of-type {\n",
       "        vertical-align: middle;\n",
       "    }\n",
       "\n",
       "    .dataframe tbody tr th {\n",
       "        vertical-align: top;\n",
       "    }\n",
       "\n",
       "    .dataframe thead th {\n",
       "        text-align: right;\n",
       "    }\n",
       "</style>\n",
       "<table border=\"1\" class=\"dataframe\">\n",
       "  <thead>\n",
       "    <tr style=\"text-align: right;\">\n",
       "      <th></th>\n",
       "      <th>avg_monthly_hrs</th>\n",
       "      <th>department</th>\n",
       "      <th>last_evaluation</th>\n",
       "      <th>n_projects</th>\n",
       "      <th>salary</th>\n",
       "      <th>satisfaction</th>\n",
       "      <th>status</th>\n",
       "      <th>tenure</th>\n",
       "    </tr>\n",
       "  </thead>\n",
       "  <tbody>\n",
       "    <tr>\n",
       "      <th>0</th>\n",
       "      <td>221</td>\n",
       "      <td>1</td>\n",
       "      <td>0.932868</td>\n",
       "      <td>4</td>\n",
       "      <td>0</td>\n",
       "      <td>0.829896</td>\n",
       "      <td>0</td>\n",
       "      <td>5.0</td>\n",
       "    </tr>\n",
       "    <tr>\n",
       "      <th>1</th>\n",
       "      <td>232</td>\n",
       "      <td>2</td>\n",
       "      <td>0.718477</td>\n",
       "      <td>3</td>\n",
       "      <td>0</td>\n",
       "      <td>0.834544</td>\n",
       "      <td>1</td>\n",
       "      <td>2.0</td>\n",
       "    </tr>\n",
       "    <tr>\n",
       "      <th>2</th>\n",
       "      <td>184</td>\n",
       "      <td>0</td>\n",
       "      <td>0.788830</td>\n",
       "      <td>3</td>\n",
       "      <td>1</td>\n",
       "      <td>0.834988</td>\n",
       "      <td>1</td>\n",
       "      <td>3.0</td>\n",
       "    </tr>\n",
       "    <tr>\n",
       "      <th>3</th>\n",
       "      <td>206</td>\n",
       "      <td>0</td>\n",
       "      <td>0.575688</td>\n",
       "      <td>4</td>\n",
       "      <td>0</td>\n",
       "      <td>0.424764</td>\n",
       "      <td>1</td>\n",
       "      <td>2.0</td>\n",
       "    </tr>\n",
       "    <tr>\n",
       "      <th>4</th>\n",
       "      <td>249</td>\n",
       "      <td>0</td>\n",
       "      <td>0.845217</td>\n",
       "      <td>3</td>\n",
       "      <td>0</td>\n",
       "      <td>0.779043</td>\n",
       "      <td>1</td>\n",
       "      <td>3.0</td>\n",
       "    </tr>\n",
       "  </tbody>\n",
       "</table>\n",
       "</div>"
      ],
      "text/plain": [
       "   avg_monthly_hrs  department  last_evaluation  n_projects  salary  \\\n",
       "0              221           1         0.932868           4       0   \n",
       "1              232           2         0.718477           3       0   \n",
       "2              184           0         0.788830           3       1   \n",
       "3              206           0         0.575688           4       0   \n",
       "4              249           0         0.845217           3       0   \n",
       "\n",
       "   satisfaction  status  tenure  \n",
       "0      0.829896       0     5.0  \n",
       "1      0.834544       1     2.0  \n",
       "2      0.834988       1     3.0  \n",
       "3      0.424764       1     2.0  \n",
       "4      0.779043       1     3.0  "
      ]
     },
     "execution_count": 327,
     "metadata": {},
     "output_type": "execute_result"
    }
   ],
   "source": [
    "churn.head()"
   ]
  },
  {
   "cell_type": "code",
   "execution_count": 329,
   "id": "0a847556",
   "metadata": {},
   "outputs": [
    {
     "data": {
      "text/plain": [
       "<AxesSubplot:xlabel='status', ylabel='tenure'>"
      ]
     },
     "execution_count": 329,
     "metadata": {},
     "output_type": "execute_result"
    },
    {
     "data": {
      "image/png": "[encoded data removed]",
      "text/plain": [
       "<Figure size 640x480 with 1 Axes>"
      ]
     },
     "metadata": {},
     "output_type": "display_data"
    }
   ],
   "source": [
    "sns.barplot(data=churn,x='status',y='tenure')"
   ]
  },
  {
   "cell_type": "code",
   "execution_count": 331,
   "id": "d009c54c",
   "metadata": {},
   "outputs": [
    {
     "data": {
      "text/plain": [
       "<AxesSubplot:xlabel='status', ylabel='n_projects'>"
      ]
     },
     "execution_count": 331,
     "metadata": {},
     "output_type": "execute_result"
    },
    {
     "data": {
      "image/png": "[encoded data removed]",
      "text/plain": [
       "<Figure size 640x480 with 1 Axes>"
      ]
     },
     "metadata": {},
     "output_type": "display_data"
    }
   ],
   "source": [
    "sns.barplot(data=churn,x='status',y='n_projects')"
   ]
  },
  {
   "cell_type": "code",
   "execution_count": 481,
   "id": "8cb0048a",
   "metadata": {},
   "outputs": [
    {
     "data": {
      "text/plain": [
       "<AxesSubplot:xlabel='status', ylabel='satisfaction'>"
      ]
     },
     "execution_count": 481,
     "metadata": {},
     "output_type": "execute_result"
    },
    {
     "data": {
      "image/png": "[encoded data removed]",
      "text/plain": [
       "<Figure size 640x480 with 1 Axes>"
      ]
     },
     "metadata": {},
     "output_type": "display_data"
    }
   ],
   "source": [
    "sns.barplot(data=churn,x='status',y='satisfaction')"
   ]
  },
  {
   "cell_type": "code",
   "execution_count": 333,
   "id": "94235887",
   "metadata": {},
   "outputs": [
    {
     "data": {
      "text/plain": [
       "<AxesSubplot:xlabel='status', ylabel='avg_monthly_hrs'>"
      ]
     },
     "execution_count": 333,
     "metadata": {},
     "output_type": "execute_result"
    },
    {
     "data": {
      "image/png": "[encoded data removed]",
      "text/plain": [
       "<Figure size 640x480 with 1 Axes>"
      ]
     },
     "metadata": {},
     "output_type": "display_data"
    }
   ],
   "source": [
    "sns.barplot(data=churn,x='status',y='avg_monthly_hrs')"
   ]
  },
  {
   "cell_type": "markdown",
   "id": "72223def",
   "metadata": {},
   "source": [
    "# Checking correlation "
   ]
  },
  {
   "cell_type": "code",
   "execution_count": 338,
   "id": "4f646169",
   "metadata": {},
   "outputs": [],
   "source": [
    "corr=churn.corr() # Pearsons Method"
   ]
  },
  {
   "cell_type": "code",
   "execution_count": 337,
   "id": "8cd9be6e",
   "metadata": {},
   "outputs": [
    {
     "data": {
      "text/html": [
       "<div>\n",
       "<style scoped>\n",
       "    .dataframe tbody tr th:only-of-type {\n",
       "        vertical-align: middle;\n",
       "    }\n",
       "\n",
       "    .dataframe tbody tr th {\n",
       "        vertical-align: top;\n",
       "    }\n",
       "\n",
       "    .dataframe thead th {\n",
       "        text-align: right;\n",
       "    }\n",
       "</style>\n",
       "<table border=\"1\" class=\"dataframe\">\n",
       "  <thead>\n",
       "    <tr style=\"text-align: right;\">\n",
       "      <th></th>\n",
       "      <th>avg_monthly_hrs</th>\n",
       "      <th>department</th>\n",
       "      <th>last_evaluation</th>\n",
       "      <th>n_projects</th>\n",
       "      <th>salary</th>\n",
       "      <th>satisfaction</th>\n",
       "      <th>status</th>\n",
       "      <th>tenure</th>\n",
       "    </tr>\n",
       "  </thead>\n",
       "  <tbody>\n",
       "    <tr>\n",
       "      <th>avg_monthly_hrs</th>\n",
       "      <td>1.000000</td>\n",
       "      <td>-0.069326</td>\n",
       "      <td>0.317572</td>\n",
       "      <td>0.440149</td>\n",
       "      <td>-0.002951</td>\n",
       "      <td>-0.019892</td>\n",
       "      <td>-0.078125</td>\n",
       "      <td>0.118130</td>\n",
       "    </tr>\n",
       "    <tr>\n",
       "      <th>department</th>\n",
       "      <td>-0.069326</td>\n",
       "      <td>1.000000</td>\n",
       "      <td>0.010782</td>\n",
       "      <td>-0.050304</td>\n",
       "      <td>0.083104</td>\n",
       "      <td>-0.004524</td>\n",
       "      <td>0.051575</td>\n",
       "      <td>0.034940</td>\n",
       "    </tr>\n",
       "    <tr>\n",
       "      <th>last_evaluation</th>\n",
       "      <td>0.317572</td>\n",
       "      <td>0.010782</td>\n",
       "      <td>1.000000</td>\n",
       "      <td>0.322499</td>\n",
       "      <td>-0.014966</td>\n",
       "      <td>0.082741</td>\n",
       "      <td>-0.043912</td>\n",
       "      <td>0.128004</td>\n",
       "    </tr>\n",
       "    <tr>\n",
       "      <th>n_projects</th>\n",
       "      <td>0.440149</td>\n",
       "      <td>-0.050304</td>\n",
       "      <td>0.322499</td>\n",
       "      <td>1.000000</td>\n",
       "      <td>-0.002760</td>\n",
       "      <td>-0.140817</td>\n",
       "      <td>-0.031216</td>\n",
       "      <td>0.185928</td>\n",
       "    </tr>\n",
       "    <tr>\n",
       "      <th>salary</th>\n",
       "      <td>-0.002951</td>\n",
       "      <td>0.083104</td>\n",
       "      <td>-0.014966</td>\n",
       "      <td>-0.002760</td>\n",
       "      <td>1.000000</td>\n",
       "      <td>0.056986</td>\n",
       "      <td>0.163781</td>\n",
       "      <td>0.049356</td>\n",
       "    </tr>\n",
       "    <tr>\n",
       "      <th>satisfaction</th>\n",
       "      <td>-0.019892</td>\n",
       "      <td>-0.004524</td>\n",
       "      <td>0.082741</td>\n",
       "      <td>-0.140817</td>\n",
       "      <td>0.056986</td>\n",
       "      <td>1.000000</td>\n",
       "      <td>0.385215</td>\n",
       "      <td>-0.093740</td>\n",
       "    </tr>\n",
       "    <tr>\n",
       "      <th>status</th>\n",
       "      <td>-0.078125</td>\n",
       "      <td>0.051575</td>\n",
       "      <td>-0.043912</td>\n",
       "      <td>-0.031216</td>\n",
       "      <td>0.163781</td>\n",
       "      <td>0.385215</td>\n",
       "      <td>1.000000</td>\n",
       "      <td>-0.139562</td>\n",
       "    </tr>\n",
       "    <tr>\n",
       "      <th>tenure</th>\n",
       "      <td>0.118130</td>\n",
       "      <td>0.034940</td>\n",
       "      <td>0.128004</td>\n",
       "      <td>0.185928</td>\n",
       "      <td>0.049356</td>\n",
       "      <td>-0.093740</td>\n",
       "      <td>-0.139562</td>\n",
       "      <td>1.000000</td>\n",
       "    </tr>\n",
       "  </tbody>\n",
       "</table>\n",
       "</div>"
      ],
      "text/plain": [
       "                 avg_monthly_hrs  department  last_evaluation  n_projects  \\\n",
       "avg_monthly_hrs         1.000000   -0.069326         0.317572    0.440149   \n",
       "department             -0.069326    1.000000         0.010782   -0.050304   \n",
       "last_evaluation         0.317572    0.010782         1.000000    0.322499   \n",
       "n_projects              0.440149   -0.050304         0.322499    1.000000   \n",
       "salary                 -0.002951    0.083104        -0.014966   -0.002760   \n",
       "satisfaction           -0.019892   -0.004524         0.082741   -0.140817   \n",
       "status                 -0.078125    0.051575        -0.043912   -0.031216   \n",
       "tenure                  0.118130    0.034940         0.128004    0.185928   \n",
       "\n",
       "                   salary  satisfaction    status    tenure  \n",
       "avg_monthly_hrs -0.002951     -0.019892 -0.078125  0.118130  \n",
       "department       0.083104     -0.004524  0.051575  0.034940  \n",
       "last_evaluation -0.014966      0.082741 -0.043912  0.128004  \n",
       "n_projects      -0.002760     -0.140817 -0.031216  0.185928  \n",
       "salary           1.000000      0.056986  0.163781  0.049356  \n",
       "satisfaction     0.056986      1.000000  0.385215 -0.093740  \n",
       "status           0.163781      0.385215  1.000000 -0.139562  \n",
       "tenure           0.049356     -0.093740 -0.139562  1.000000  "
      ]
     },
     "execution_count": 337,
     "metadata": {},
     "output_type": "execute_result"
    }
   ],
   "source": [
    "corr"
   ]
  },
  {
   "cell_type": "code",
   "execution_count": 340,
   "id": "aec12d26",
   "metadata": {},
   "outputs": [
    {
     "data": {
      "text/plain": [
       "<AxesSubplot:>"
      ]
     },
     "execution_count": 340,
     "metadata": {},
     "output_type": "execute_result"
    },
    {
     "data": {
      "image/png": "[encoded data removed]",
      "text/plain": [
       "<Figure size 640x480 with 2 Axes>"
      ]
     },
     "metadata": {},
     "output_type": "display_data"
    }
   ],
   "source": [
    "sns.heatmap(data=corr,annot=True)"
   ]
  },
  {
   "cell_type": "code",
   "execution_count": 341,
   "id": "dbabb15a",
   "metadata": {},
   "outputs": [],
   "source": [
    "# in this data we donot found high correlation "
   ]
  },
  {
   "cell_type": "code",
   "execution_count": 342,
   "id": "65b7d2a9",
   "metadata": {},
   "outputs": [
    {
     "data": {
      "text/html": [
       "<div>\n",
       "<style scoped>\n",
       "    .dataframe tbody tr th:only-of-type {\n",
       "        vertical-align: middle;\n",
       "    }\n",
       "\n",
       "    .dataframe tbody tr th {\n",
       "        vertical-align: top;\n",
       "    }\n",
       "\n",
       "    .dataframe thead th {\n",
       "        text-align: right;\n",
       "    }\n",
       "</style>\n",
       "<table border=\"1\" class=\"dataframe\">\n",
       "  <thead>\n",
       "    <tr style=\"text-align: right;\">\n",
       "      <th></th>\n",
       "      <th>avg_monthly_hrs</th>\n",
       "      <th>department</th>\n",
       "      <th>last_evaluation</th>\n",
       "      <th>n_projects</th>\n",
       "      <th>salary</th>\n",
       "      <th>satisfaction</th>\n",
       "      <th>status</th>\n",
       "      <th>tenure</th>\n",
       "    </tr>\n",
       "  </thead>\n",
       "  <tbody>\n",
       "    <tr>\n",
       "      <th>0</th>\n",
       "      <td>221</td>\n",
       "      <td>1</td>\n",
       "      <td>0.932868</td>\n",
       "      <td>4</td>\n",
       "      <td>0</td>\n",
       "      <td>0.829896</td>\n",
       "      <td>0</td>\n",
       "      <td>5.0</td>\n",
       "    </tr>\n",
       "    <tr>\n",
       "      <th>1</th>\n",
       "      <td>232</td>\n",
       "      <td>2</td>\n",
       "      <td>0.718477</td>\n",
       "      <td>3</td>\n",
       "      <td>0</td>\n",
       "      <td>0.834544</td>\n",
       "      <td>1</td>\n",
       "      <td>2.0</td>\n",
       "    </tr>\n",
       "    <tr>\n",
       "      <th>2</th>\n",
       "      <td>184</td>\n",
       "      <td>0</td>\n",
       "      <td>0.788830</td>\n",
       "      <td>3</td>\n",
       "      <td>1</td>\n",
       "      <td>0.834988</td>\n",
       "      <td>1</td>\n",
       "      <td>3.0</td>\n",
       "    </tr>\n",
       "    <tr>\n",
       "      <th>3</th>\n",
       "      <td>206</td>\n",
       "      <td>0</td>\n",
       "      <td>0.575688</td>\n",
       "      <td>4</td>\n",
       "      <td>0</td>\n",
       "      <td>0.424764</td>\n",
       "      <td>1</td>\n",
       "      <td>2.0</td>\n",
       "    </tr>\n",
       "    <tr>\n",
       "      <th>4</th>\n",
       "      <td>249</td>\n",
       "      <td>0</td>\n",
       "      <td>0.845217</td>\n",
       "      <td>3</td>\n",
       "      <td>0</td>\n",
       "      <td>0.779043</td>\n",
       "      <td>1</td>\n",
       "      <td>3.0</td>\n",
       "    </tr>\n",
       "  </tbody>\n",
       "</table>\n",
       "</div>"
      ],
      "text/plain": [
       "   avg_monthly_hrs  department  last_evaluation  n_projects  salary  \\\n",
       "0              221           1         0.932868           4       0   \n",
       "1              232           2         0.718477           3       0   \n",
       "2              184           0         0.788830           3       1   \n",
       "3              206           0         0.575688           4       0   \n",
       "4              249           0         0.845217           3       0   \n",
       "\n",
       "   satisfaction  status  tenure  \n",
       "0      0.829896       0     5.0  \n",
       "1      0.834544       1     2.0  \n",
       "2      0.834988       1     3.0  \n",
       "3      0.424764       1     2.0  \n",
       "4      0.779043       1     3.0  "
      ]
     },
     "execution_count": 342,
     "metadata": {},
     "output_type": "execute_result"
    }
   ],
   "source": [
    "churn.head()"
   ]
  },
  {
   "cell_type": "markdown",
   "id": "dbb71cbc",
   "metadata": {},
   "source": [
    "# Preprocessing "
   ]
  },
  {
   "cell_type": "code",
   "execution_count": 350,
   "id": "f57887f1",
   "metadata": {},
   "outputs": [],
   "source": [
    "X=churn.drop(['status'],axis=1)\n",
    "Y=churn['status']"
   ]
  },
  {
   "cell_type": "code",
   "execution_count": 359,
   "id": "b3558c00",
   "metadata": {},
   "outputs": [],
   "source": [
    "# We do scaling  in this dataset  because of avg hore contain >100 "
   ]
  },
  {
   "cell_type": "code",
   "execution_count": 360,
   "id": "7a58d3d6",
   "metadata": {},
   "outputs": [],
   "source": [
    "from sklearn.preprocessing import MinMaxScaler,StandardScaler,RobustScaler"
   ]
  },
  {
   "cell_type": "code",
   "execution_count": 361,
   "id": "fc9d6260",
   "metadata": {},
   "outputs": [
    {
     "data": {
      "text/html": [
       "<style>#sk-container-id-3 {color: black;background-color: white;}#sk-container-id-3 pre{padding: 0;}#sk-container-id-3 div.sk-toggleable {background-color: white;}#sk-container-id-3 label.sk-toggleable__label {cursor: pointer;display: block;width: 100%;margin-bottom: 0;padding: 0.3em;box-sizing: border-box;text-align: center;}#sk-container-id-3 label.sk-toggleable__label-arrow:before {content: \"▸\";float: left;margin-right: 0.25em;color: #696969;}#sk-container-id-3 label.sk-toggleable__label-arrow:hover:before {color: black;}#sk-container-id-3 div.sk-estimator:hover label.sk-toggleable__label-arrow:before {color: black;}#sk-container-id-3 div.sk-toggleable__content {max-height: 0;max-width: 0;overflow: hidden;text-align: left;background-color: #f0f8ff;}#sk-container-id-3 div.sk-toggleable__content pre {margin: 0.2em;color: black;border-radius: 0.25em;background-color: #f0f8ff;}#sk-container-id-3 input.sk-toggleable__control:checked~div.sk-toggleable__content {max-height: 200px;max-width: 100%;overflow: auto;}#sk-container-id-3 input.sk-toggleable__control:checked~label.sk-toggleable__label-arrow:before {content: \"▾\";}#sk-container-id-3 div.sk-estimator input.sk-toggleable__control:checked~label.sk-toggleable__label {background-color: #d4ebff;}#sk-container-id-3 div.sk-label input.sk-toggleable__control:checked~label.sk-toggleable__label {background-color: #d4ebff;}#sk-container-id-3 input.sk-hidden--visually {border: 0;clip: rect(1px 1px 1px 1px);clip: rect(1px, 1px, 1px, 1px);height: 1px;margin: -1px;overflow: hidden;padding: 0;position: absolute;width: 1px;}#sk-container-id-3 div.sk-estimator {font-family: monospace;background-color: #f0f8ff;border: 1px dotted black;border-radius: 0.25em;box-sizing: border-box;margin-bottom: 0.5em;}#sk-container-id-3 div.sk-estimator:hover {background-color: #d4ebff;}#sk-container-id-3 div.sk-parallel-item::after {content: \"\";width: 100%;border-bottom: 1px solid gray;flex-grow: 1;}#sk-container-id-3 div.sk-label:hover label.sk-toggleable__label {background-color: #d4ebff;}#sk-container-id-3 div.sk-serial::before {content: \"\";position: absolute;border-left: 1px solid gray;box-sizing: border-box;top: 0;bottom: 0;left: 50%;z-index: 0;}#sk-container-id-3 div.sk-serial {display: flex;flex-direction: column;align-items: center;background-color: white;padding-right: 0.2em;padding-left: 0.2em;position: relative;}#sk-container-id-3 div.sk-item {position: relative;z-index: 1;}#sk-container-id-3 div.sk-parallel {display: flex;align-items: stretch;justify-content: center;background-color: white;position: relative;}#sk-container-id-3 div.sk-item::before, #sk-container-id-3 div.sk-parallel-item::before {content: \"\";position: absolute;border-left: 1px solid gray;box-sizing: border-box;top: 0;bottom: 0;left: 50%;z-index: -1;}#sk-container-id-3 div.sk-parallel-item {display: flex;flex-direction: column;z-index: 1;position: relative;background-color: white;}#sk-container-id-3 div.sk-parallel-item:first-child::after {align-self: flex-end;width: 50%;}#sk-container-id-3 div.sk-parallel-item:last-child::after {align-self: flex-start;width: 50%;}#sk-container-id-3 div.sk-parallel-item:only-child::after {width: 0;}#sk-container-id-3 div.sk-dashed-wrapped {border: 1px dashed gray;margin: 0 0.4em 0.5em 0.4em;box-sizing: border-box;padding-bottom: 0.4em;background-color: white;}#sk-container-id-3 div.sk-label label {font-family: monospace;font-weight: bold;display: inline-block;line-height: 1.2em;}#sk-container-id-3 div.sk-label-container {text-align: center;}#sk-container-id-3 div.sk-container {/* jupyter's `normalize.less` sets `[hidden] { display: none; }` but bootstrap.min.css set `[hidden] { display: none !important; }` so we also need the `!important` here to be able to override the default hidden behavior on the sphinx rendered scikit-learn.org. See: https://github.com/scikit-learn/scikit-learn/issues/21755 */display: inline-block !important;position: relative;}#sk-container-id-3 div.sk-text-repr-fallback {display: none;}</style><div id=\"sk-container-id-3\" class=\"sk-top-container\"><div class=\"sk-text-repr-fallback\"><pre>StandardScaler()</pre><b>In a Jupyter environment, please rerun this cell to show the HTML representation or trust the notebook. <br />On GitHub, the HTML representation is unable to render, please try loading this page with nbviewer.org.</b></div><div class=\"sk-container\" hidden><div class=\"sk-item\"><div class=\"sk-estimator sk-toggleable\"><input class=\"sk-toggleable__control sk-hidden--visually\" id=\"sk-estimator-id-3\" type=\"checkbox\" checked><label for=\"sk-estimator-id-3\" class=\"sk-toggleable__label sk-toggleable__label-arrow\">StandardScaler</label><div class=\"sk-toggleable__content\"><pre>StandardScaler()</pre></div></div></div></div></div>"
      ],
      "text/plain": [
       "StandardScaler()"
      ]
     },
     "execution_count": 361,
     "metadata": {},
     "output_type": "execute_result"
    }
   ],
   "source": [
    "scaler=StandardScaler()\n",
    "scaler"
   ]
  },
  {
   "cell_type": "code",
   "execution_count": 362,
   "id": "c1b9abe2",
   "metadata": {},
   "outputs": [],
   "source": [
    "X_scaled=scaler.fit_transform(X)"
   ]
  },
  {
   "cell_type": "code",
   "execution_count": 363,
   "id": "088d911f",
   "metadata": {},
   "outputs": [],
   "source": [
    "# Training Data and Testing Data "
   ]
  },
  {
   "cell_type": "code",
   "execution_count": 369,
   "id": "42e37fdb",
   "metadata": {},
   "outputs": [
    {
     "data": {
      "text/plain": [
       "1    10354\n",
       "0     3186\n",
       "Name: status, dtype: int64"
      ]
     },
     "execution_count": 369,
     "metadata": {},
     "output_type": "execute_result"
    }
   ],
   "source": [
    "Y.value_counts()"
   ]
  },
  {
   "cell_type": "code",
   "execution_count": 375,
   "id": "460bd2da",
   "metadata": {},
   "outputs": [],
   "source": [
    "# You can see our data are inbalance  so we use statify "
   ]
  },
  {
   "cell_type": "code",
   "execution_count": 376,
   "id": "9bdcb5ed",
   "metadata": {},
   "outputs": [],
   "source": [
    "from sklearn.model_selection import train_test_split"
   ]
  },
  {
   "cell_type": "code",
   "execution_count": 377,
   "id": "27e80bf3",
   "metadata": {},
   "outputs": [],
   "source": [
    "X_train,X_test,Y_train,Y_test=train_test_split(X,Y,random_state=10,test_size=.20,stratify=Y)"
   ]
  },
  {
   "cell_type": "code",
   "execution_count": 379,
   "id": "a4d000d3",
   "metadata": {},
   "outputs": [],
   "source": [
    "# We check this data set from this all algorithum "
   ]
  },
  {
   "cell_type": "code",
   "execution_count": 380,
   "id": "30800c2b",
   "metadata": {},
   "outputs": [],
   "source": [
    "from sklearn.linear_model import LogisticRegression\n",
    "from sklearn.neighbors import KNeighborsClassifier\n",
    "from sklearn.svm import SVC\n",
    "from sklearn.naive_bayes import GaussianNB\n",
    "from sklearn.tree import DecisionTreeClassifier\n",
    "# ensemble learning algorithm- bagging family\n",
    "from sklearn.ensemble import RandomForestClassifier,BaggingClassifier"
   ]
  },
  {
   "cell_type": "code",
   "execution_count": 384,
   "id": "21ae9b5c",
   "metadata": {},
   "outputs": [],
   "source": [
    "# Import evaluation function we need to import\n",
    "from sklearn.metrics import confusion_matrix,accuracy_score,classification_report,roc_auc_score"
   ]
  },
  {
   "cell_type": "code",
   "execution_count": 472,
   "id": "02975849",
   "metadata": {},
   "outputs": [],
   "source": [
    "lr=LogisticRegression()\n",
    "knn=KNeighborsClassifier()\n",
    "sv=SVC()\n",
    "gnb=GaussianNB()\n",
    "dt=DecisionTreeClassifier()"
   ]
  },
  {
   "cell_type": "code",
   "execution_count": 473,
   "id": "d02614cf",
   "metadata": {},
   "outputs": [
    {
     "name": "stdout",
     "output_type": "stream",
     "text": [
      "************************************* LogisticRegression()\n",
      "training Accuracy score \n",
      " 0.7820347119645494\n",
      "==============================\n",
      "testing Accuracy score \n",
      " 0.7773264401772526\n",
      "==============================\n",
      "Confusion matrix \n",
      " [[ 196  441]\n",
      " [ 162 1909]]\n",
      "==============================\n",
      "CLASSIFICATION REPORT \n",
      "               precision    recall  f1-score   support\n",
      "\n",
      "           0       0.55      0.31      0.39       637\n",
      "           1       0.81      0.92      0.86      2071\n",
      "\n",
      "    accuracy                           0.78      2708\n",
      "   macro avg       0.68      0.61      0.63      2708\n",
      "weighted avg       0.75      0.78      0.75      2708\n",
      "\n",
      "==============================\n",
      "==============================\n",
      "************************************* KNeighborsClassifier()\n"
     ]
    },
    {
     "name": "stderr",
     "output_type": "stream",
     "text": [
      "C:\\Users\\USER\\.dotnet\\ANACONDA\\lib\\site-packages\\sklearn\\linear_model\\_logistic.py:458: ConvergenceWarning: lbfgs failed to converge (status=1):\n",
      "STOP: TOTAL NO. of ITERATIONS REACHED LIMIT.\n",
      "\n",
      "Increase the number of iterations (max_iter) or scale the data as shown in:\n",
      "    https://scikit-learn.org/stable/modules/preprocessing.html\n",
      "Please also refer to the documentation for alternative solver options:\n",
      "    https://scikit-learn.org/stable/modules/linear_model.html#logistic-regression\n",
      "  n_iter_i = _check_optimize_result(\n"
     ]
    },
    {
     "name": "stdout",
     "output_type": "stream",
     "text": [
      "training Accuracy score \n",
      " 0.9549483013293943\n",
      "==============================\n",
      "testing Accuracy score \n",
      " 0.9324224519940916\n",
      "==============================\n",
      "Confusion matrix \n",
      " [[ 570   67]\n",
      " [ 116 1955]]\n",
      "==============================\n",
      "CLASSIFICATION REPORT \n",
      "               precision    recall  f1-score   support\n",
      "\n",
      "           0       0.83      0.89      0.86       637\n",
      "           1       0.97      0.94      0.96      2071\n",
      "\n",
      "    accuracy                           0.93      2708\n",
      "   macro avg       0.90      0.92      0.91      2708\n",
      "weighted avg       0.93      0.93      0.93      2708\n",
      "\n",
      "==============================\n",
      "==============================\n",
      "************************************* SVC()\n",
      "training Accuracy score \n",
      " 0.7850812407680945\n",
      "==============================\n",
      "testing Accuracy score \n",
      " 0.7854505169867061\n",
      "==============================\n",
      "Confusion matrix \n",
      " [[  56  581]\n",
      " [   0 2071]]\n",
      "==============================\n",
      "CLASSIFICATION REPORT \n",
      "               precision    recall  f1-score   support\n",
      "\n",
      "           0       1.00      0.09      0.16       637\n",
      "           1       0.78      1.00      0.88      2071\n",
      "\n",
      "    accuracy                           0.79      2708\n",
      "   macro avg       0.89      0.54      0.52      2708\n",
      "weighted avg       0.83      0.79      0.71      2708\n",
      "\n",
      "==============================\n",
      "==============================\n",
      "************************************* GaussianNB()\n",
      "training Accuracy score \n",
      " 0.8213626292466765\n",
      "==============================\n",
      "testing Accuracy score \n",
      " 0.8112998522895125\n",
      "==============================\n",
      "Confusion matrix \n",
      " [[ 307  330]\n",
      " [ 181 1890]]\n",
      "==============================\n",
      "CLASSIFICATION REPORT \n",
      "               precision    recall  f1-score   support\n",
      "\n",
      "           0       0.63      0.48      0.55       637\n",
      "           1       0.85      0.91      0.88      2071\n",
      "\n",
      "    accuracy                           0.81      2708\n",
      "   macro avg       0.74      0.70      0.71      2708\n",
      "weighted avg       0.80      0.81      0.80      2708\n",
      "\n",
      "==============================\n",
      "==============================\n",
      "************************************* DecisionTreeClassifier()\n",
      "training Accuracy score \n",
      " 0.9998153618906942\n",
      "==============================\n",
      "testing Accuracy score \n",
      " 0.9586410635155096\n",
      "==============================\n",
      "Confusion matrix \n",
      " [[ 584   53]\n",
      " [  59 2012]]\n",
      "==============================\n",
      "CLASSIFICATION REPORT \n",
      "               precision    recall  f1-score   support\n",
      "\n",
      "           0       0.91      0.92      0.91       637\n",
      "           1       0.97      0.97      0.97      2071\n",
      "\n",
      "    accuracy                           0.96      2708\n",
      "   macro avg       0.94      0.94      0.94      2708\n",
      "weighted avg       0.96      0.96      0.96      2708\n",
      "\n",
      "==============================\n",
      "==============================\n"
     ]
    }
   ],
   "source": [
    "for model in [lr,knn,sv,gnb,dt]:\n",
    "    print('*************************************',model)\n",
    "    abc=model.fit(X_train,Y_train)\n",
    "    Y_predtrain=abc.predict(X_train)\n",
    "    Y_predtest=abc.predict(X_test)\n",
    "    Astrain=accuracy_score(Y_train,Y_predtrain)\n",
    "    Astest=accuracy_score(Y_test,Y_predtest)\n",
    "    cm=confusion_matrix(Y_test,Y_predtest)\n",
    "    CR=classification_report(Y_test,Y_predtest)\n",
    "    \n",
    "    \n",
    "    \n",
    "    \n",
    "    print(\"training Accuracy score \\n\" ,Astrain)\n",
    "    print(\"==========\"*3)\n",
    "    print(\"testing Accuracy score \\n\" ,Astest)\n",
    "    print(\"==========\"*3)\n",
    "    print(\"Confusion matrix \\n\" ,cm)\n",
    "    print(\"==========\"*3)\n",
    "    print(\"CLASSIFICATION REPORT \\n\" ,CR)\n",
    "    print(\"==========\"*3)\n",
    "    #print(\"ROC AUC \\n\" ,ROC)\n",
    "    print(\"==========\"*3)"
   ]
  },
  {
   "cell_type": "code",
   "execution_count": 474,
   "id": "be188f94",
   "metadata": {},
   "outputs": [],
   "source": [
    "# you can see in KNN and decision tree give good accuracy of training and test data\n",
    "#so we do some changes in KNN and Decision tree"
   ]
  },
  {
   "cell_type": "code",
   "execution_count": 475,
   "id": "0b30e98e",
   "metadata": {},
   "outputs": [],
   "source": [
    "knn=KNeighborsClassifier(n_neighbors=1,metric='minkowski',p=2)"
   ]
  },
  {
   "cell_type": "code",
   "execution_count": 476,
   "id": "12efd6c3",
   "metadata": {},
   "outputs": [
    {
     "name": "stdout",
     "output_type": "stream",
     "text": [
      "************************************* KNeighborsClassifier(n_neighbors=1)\n",
      "training Accuracy score \n",
      " 0.9998153618906942\n",
      "==============================\n",
      "testing Accuracy score \n",
      " 0.9471935007385525\n",
      "==============================\n",
      "Confusion matrix \n",
      " [[ 590   47]\n",
      " [  96 1975]]\n",
      "==============================\n",
      "CLASSIFICATION REPORT \n",
      "               precision    recall  f1-score   support\n",
      "\n",
      "           0       0.86      0.93      0.89       637\n",
      "           1       0.98      0.95      0.97      2071\n",
      "\n",
      "    accuracy                           0.95      2708\n",
      "   macro avg       0.92      0.94      0.93      2708\n",
      "weighted avg       0.95      0.95      0.95      2708\n",
      "\n",
      "==============================\n",
      "==============================\n"
     ]
    }
   ],
   "source": [
    "for model in [knn]:\n",
    "    print('*************************************',model)\n",
    "    abc=model.fit(X_train,Y_train)\n",
    "    Y_predtrain=abc.predict(X_train)\n",
    "    Y_predtest=abc.predict(X_test)\n",
    "    Astrain=accuracy_score(Y_train,Y_predtrain)\n",
    "    Astest=accuracy_score(Y_test,Y_predtest)\n",
    "    cm=confusion_matrix(Y_test,Y_predtest)\n",
    "    CR=classification_report(Y_test,Y_predtest)\n",
    "    \n",
    "    \n",
    "    \n",
    "    \n",
    "    print(\"training Accuracy score \\n\" ,Astrain)\n",
    "    print(\"==========\"*3)\n",
    "    print(\"testing Accuracy score \\n\" ,Astest)\n",
    "    print(\"==========\"*3)\n",
    "    print(\"Confusion matrix \\n\" ,cm)\n",
    "    print(\"==========\"*3)\n",
    "    print(\"CLASSIFICATION REPORT \\n\" ,CR)\n",
    "    print(\"==========\"*3)\n",
    "    #print(\"ROC AUC \\n\" ,ROC)\n",
    "    print(\"==========\"*3)"
   ]
  },
  {
   "cell_type": "code",
   "execution_count": 425,
   "id": "87c86490",
   "metadata": {},
   "outputs": [],
   "source": [
    "# Now you can see in previous and new has emprove the accuracy of testing and traning "
   ]
  },
  {
   "cell_type": "code",
   "execution_count": null,
   "id": "aa2796a5",
   "metadata": {},
   "outputs": [],
   "source": []
  },
  {
   "cell_type": "code",
   "execution_count": null,
   "id": "eff96870",
   "metadata": {},
   "outputs": [],
   "source": []
  }
 ],
 "metadata": {
  "kernelspec": {
   "display_name": "Python 3 (ipykernel)",
   "language": "python",
   "name": "python3"
  },
  "language_info": {
   "codemirror_mode": {
    "name": "ipython",
    "version": 3
   },
   "file_extension": ".py",
   "mimetype": "text/x-python",
   "name": "python",
   "nbconvert_exporter": "python",
   "pygments_lexer": "ipython3",
   "version": "3.9.13"
  }
 },
 "nbformat": 4,
 "nbformat_minor": 5
}
